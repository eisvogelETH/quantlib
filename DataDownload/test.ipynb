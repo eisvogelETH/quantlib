{
 "cells": [
  {
   "cell_type": "code",
   "execution_count": 1,
   "metadata": {},
   "outputs": [],
   "source": [
    "import pandas as pd \n",
    "import os\n",
    "import psycopg2 as pg\n",
    "import time\n",
    "from dotenv import load_dotenv"
   ]
  },
  {
   "cell_type": "code",
   "execution_count": 2,
   "metadata": {},
   "outputs": [],
   "source": [
    "# Load environment variables from .env file\n",
    "load_dotenv()\n",
    "\n",
    "# Access the environment variables\n",
    "dbname = os.getenv('DB_NAME')\n",
    "user = os.getenv('DB_USER')\n",
    "password = os.getenv('DB_PASSWORD')\n",
    "host = os.getenv('DB_HOST')\n",
    "port = os.getenv('DB_PORT')\n",
    "\n",
    "db_params = {\n",
    "            'dbname': dbname,\n",
    "            'user': user,\n",
    "            'password': password,\n",
    "            'host': host,\n",
    "            'port': port\n",
    "        }\n",
    "\n"
   ]
  },
  {
   "cell_type": "code",
   "execution_count": 3,
   "metadata": {},
   "outputs": [],
   "source": [
    "#funktion definiert\n",
    "def fetch_data_from_db(query):\n",
    "    try:\n",
    "        # Connect to PostgreSQL\n",
    "        conn = pg.connect(**db_params)\n",
    "        \n",
    "        # Create a cursor object\n",
    "        cur = conn.cursor()\n",
    "        \n",
    "        # Execute the SELECT query\n",
    "        cur.execute(query)\n",
    "        \n",
    "        # Fetch all rows from the executed query\n",
    "        rows = cur.fetchall()\n",
    "        \n",
    "        # Get column names from the cursor description\n",
    "        colnames = [desc[0] for desc in cur.description]\n",
    "        \n",
    "        # Convert the fetched data into a DataFrame\n",
    "        df = pd.DataFrame(rows, columns=colnames)\n",
    "        \n",
    "        return df\n",
    "\n",
    "    except pg.Error as db_err:\n",
    "        print(f\"Database error: {db_err}\")\n",
    "        return None\n",
    "    except Exception as e:\n",
    "        print(f\"Error: {e}\")\n",
    "        return None\n",
    "    finally:\n",
    "        # Close cursor and connection\n",
    "        if 'cur' in locals() and cur is not None:\n",
    "            cur.close()\n",
    "        if 'conn' in locals() and conn is not None:\n",
    "            conn.close()\n"
   ]
  },
  {
   "cell_type": "code",
   "execution_count": 4,
   "metadata": {},
   "outputs": [
    {
     "name": "stdout",
     "output_type": "stream",
     "text": [
      "   count\n",
      "0    414\n"
     ]
    }
   ],
   "source": [
    "# Define your SELECT query\n",
    "select_query = \"\"\"\n",
    "SELECT count(distinct creation_timestamp) \n",
    "FROM market_data\n",
    "where DATE(creation_timestamp) = '2025-01-01'\n",
    "\"\"\"\n",
    "\n",
    "# Fetch data from the database\n",
    "data_df = fetch_data_from_db(select_query)\n",
    "\n",
    "# Display the DataFrame\n",
    "if data_df is not None:\n",
    "    print(data_df)"
   ]
  }
 ],
 "metadata": {
  "kernelspec": {
   "display_name": "quantlib-server-v-aD_jnq-py3.11",
   "language": "python",
   "name": "python3"
  },
  "language_info": {
   "codemirror_mode": {
    "name": "ipython",
    "version": 3
   },
   "file_extension": ".py",
   "mimetype": "text/x-python",
   "name": "python",
   "nbconvert_exporter": "python",
   "pygments_lexer": "ipython3",
   "version": "3.11.11"
  }
 },
 "nbformat": 4,
 "nbformat_minor": 2
}
